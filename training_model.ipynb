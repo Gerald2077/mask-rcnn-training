{
  "nbformat": 4,
  "nbformat_minor": 0,
  "metadata": {
    "colab": {
      "name": "training_model.ipynb",
      "version": "0.3.2",
      "provenance": [],
      "include_colab_link": true
    },
    "kernelspec": {
      "name": "python3",
      "display_name": "Python 3"
    },
    "accelerator": "GPU"
  },
  "cells": [
    {
      "cell_type": "markdown",
      "metadata": {
        "id": "view-in-github",
        "colab_type": "text"
      },
      "source": [
        "<a href=\"https://colab.research.google.com/github/Gerald2077/mask-rcnn-training/blob/master/training_model.ipynb\" target=\"_parent\"><img src=\"https://colab.research.google.com/assets/colab-badge.svg\" alt=\"Open In Colab\"/></a>"
      ]
    },
    {
      "metadata": {
        "id": "cxiDl0emEUGH",
        "colab_type": "text"
      },
      "cell_type": "markdown",
      "source": [
        "# **Training the model**"
      ]
    },
    {
      "metadata": {
        "id": "WJVZo7vrFbml",
        "colab_type": "text"
      },
      "cell_type": "markdown",
      "source": [
        "Import the repository"
      ]
    },
    {
      "metadata": {
        "id": "DA1emBKhDpMM",
        "colab_type": "code",
        "colab": {}
      },
      "cell_type": "code",
      "source": [
        "!git clone https://github.com/Gerald2077/mask-rcnn-training"
      ],
      "execution_count": 0,
      "outputs": []
    },
    {
      "metadata": {
        "id": "2n58Lnk8Fmfy",
        "colab_type": "text"
      },
      "cell_type": "markdown",
      "source": [
        "Run the training code"
      ]
    },
    {
      "metadata": {
        "id": "h09biehBFx9G",
        "colab_type": "code",
        "colab": {}
      },
      "cell_type": "code",
      "source": [
        "!python3 custom.py train --dataset=customImages/ --weights=coco"
      ],
      "execution_count": 0,
      "outputs": []
    },
    {
      "metadata": {
        "id": "Tq24j01TF3iU",
        "colab_type": "text"
      },
      "cell_type": "markdown",
      "source": [
        "Saving the weight file"
      ]
    },
    {
      "metadata": {
        "id": "zvvFcCpiGPeI",
        "colab_type": "code",
        "colab": {}
      },
      "cell_type": "code",
      "source": [
        "from google.colab import drive \n",
        "drive.mount('/content/gdrive')\n",
        "# Change directory to the newly created weights folder /logs/.../\n",
        "%cp mask_rcnn_table_0010.h5 /content/gdrive/'My Drive'/"
      ],
      "execution_count": 0,
      "outputs": []
    }
  ]
}